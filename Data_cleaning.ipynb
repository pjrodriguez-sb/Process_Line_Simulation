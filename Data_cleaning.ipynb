{
 "cells": [
  {
   "cell_type": "code",
   "execution_count": 1,
   "metadata": {},
   "outputs": [],
   "source": [
    "import pandas as pd\n",
    "import numpy as np"
   ]
  },
  {
   "cell_type": "code",
   "execution_count": 2,
   "metadata": {},
   "outputs": [],
   "source": [
    "cyc = pd.read_csv(r'/Users/pedrorodriguez/Desktop/Springboard/Capstone_Project/Second Part/Cycle_time_per_station')\n",
    "dtf = pd.read_csv(r'/Users/pedrorodriguez/Desktop/Springboard/Capstone_Project/Second Part/Downtime_freq')\n",
    "dtt = pd.read_csv(r'/Users/pedrorodriguez/Desktop/Springboard/Capstone_Project/Second Part/Downtime_time')"
   ]
  },
  {
   "cell_type": "code",
   "execution_count": 3,
   "metadata": {},
   "outputs": [
    {
     "output_type": "stream",
     "name": "stdout",
     "text": [
      "<class 'pandas.core.frame.DataFrame'>\nRangeIndex: 5200 entries, 0 to 5199\nData columns (total 5 columns):\n #   Column           Non-Null Count  Dtype  \n---  ------           --------------  -----  \n 0   Unnamed: 0       5200 non-null   int64  \n 1   station          5200 non-null   float64\n 2   production_line  5200 non-null   float64\n 3   Sample           5200 non-null   object \n 4   Cycle_time       5200 non-null   float64\ndtypes: float64(3), int64(1), object(1)\nmemory usage: 203.2+ KB\nNone\n<class 'pandas.core.frame.DataFrame'>\nRangeIndex: 5200 entries, 0 to 5199\nData columns (total 5 columns):\n #   Column       Non-Null Count  Dtype \n---  ------       --------------  ----- \n 0   Unnamed: 0   5200 non-null   int64 \n 1   station      5200 non-null   object\n 2   station_no.  5200 non-null   int64 \n 3   variable     5200 non-null   object\n 4   value        5200 non-null   int64 \ndtypes: int64(3), object(2)\nmemory usage: 203.2+ KB\nNone\n<class 'pandas.core.frame.DataFrame'>\nRangeIndex: 1248 entries, 0 to 1247\nData columns (total 6 columns):\n #   Column       Non-Null Count  Dtype \n---  ------       --------------  ----- \n 0   Unnamed: 0   1248 non-null   int64 \n 1   station      1248 non-null   object\n 2   station_no.  1248 non-null   int64 \n 3   Date         1248 non-null   object\n 4   Downtime     1248 non-null   int64 \n 5   Year         1248 non-null   int64 \ndtypes: int64(4), object(2)\nmemory usage: 58.6+ KB\nNone\n"
     ]
    }
   ],
   "source": [
    "print(cyc.info())\n",
    "print(dtt.info())\n",
    "print(dtf.info())"
   ]
  },
  {
   "source": [
    "The information of cycle time and downtime-time have the same shape and have the same column. Downtime-time does not have a production line and is something that will need in future analysis. Let's put the same columns format as an object for the station and merge these two datasets."
   ],
   "cell_type": "markdown",
   "metadata": {}
  },
  {
   "cell_type": "code",
   "execution_count": 4,
   "metadata": {},
   "outputs": [
    {
     "output_type": "stream",
     "name": "stdout",
     "text": [
      "\nCycle time\n Unnamed: 0         0\nstation            0\nproduction_line    0\nSample             0\nCycle_time         0\ndtype: int64\n\nDowntime-time\n Unnamed: 0     0\nstation        0\nstation_no.    0\nvariable       0\nvalue          0\ndtype: int64\n\n\nFrequency\n Unnamed: 0     0\nstation        0\nstation_no.    0\nDate           0\nDowntime       0\nYear           0\ndtype: int64\n"
     ]
    }
   ],
   "source": [
    "print('\\nCycle time\\n' ,cyc.isnull().sum())\n",
    "print('\\nDowntime-time\\n' ,dtt.isnull().sum())\n",
    "print('\\n\\nFrequency\\n' ,dtf.isnull().sum())"
   ]
  },
  {
   "cell_type": "code",
   "execution_count": 5,
   "metadata": {},
   "outputs": [
    {
     "output_type": "execute_result",
     "data": {
      "text/plain": [
       "   Unnamed: 0  station  production_line      Sample  Cycle_time\n",
       "0           0      1.0              1.0  Unnamed: 6   96.200000\n",
       "1           1      2.0              1.0  Unnamed: 6   22.200000\n",
       "2           2      3.0              2.0  Unnamed: 6    7.250000\n",
       "3           3      4.0              2.0  Unnamed: 6   11.666667\n",
       "4           4      5.0              2.0  Unnamed: 6   75.250000"
      ],
      "text/html": "<div>\n<style scoped>\n    .dataframe tbody tr th:only-of-type {\n        vertical-align: middle;\n    }\n\n    .dataframe tbody tr th {\n        vertical-align: top;\n    }\n\n    .dataframe thead th {\n        text-align: right;\n    }\n</style>\n<table border=\"1\" class=\"dataframe\">\n  <thead>\n    <tr style=\"text-align: right;\">\n      <th></th>\n      <th>Unnamed: 0</th>\n      <th>station</th>\n      <th>production_line</th>\n      <th>Sample</th>\n      <th>Cycle_time</th>\n    </tr>\n  </thead>\n  <tbody>\n    <tr>\n      <th>0</th>\n      <td>0</td>\n      <td>1.0</td>\n      <td>1.0</td>\n      <td>Unnamed: 6</td>\n      <td>96.200000</td>\n    </tr>\n    <tr>\n      <th>1</th>\n      <td>1</td>\n      <td>2.0</td>\n      <td>1.0</td>\n      <td>Unnamed: 6</td>\n      <td>22.200000</td>\n    </tr>\n    <tr>\n      <th>2</th>\n      <td>2</td>\n      <td>3.0</td>\n      <td>2.0</td>\n      <td>Unnamed: 6</td>\n      <td>7.250000</td>\n    </tr>\n    <tr>\n      <th>3</th>\n      <td>3</td>\n      <td>4.0</td>\n      <td>2.0</td>\n      <td>Unnamed: 6</td>\n      <td>11.666667</td>\n    </tr>\n    <tr>\n      <th>4</th>\n      <td>4</td>\n      <td>5.0</td>\n      <td>2.0</td>\n      <td>Unnamed: 6</td>\n      <td>75.250000</td>\n    </tr>\n  </tbody>\n</table>\n</div>"
     },
     "metadata": {},
     "execution_count": 5
    }
   ],
   "source": [
    "cyc.head()"
   ]
  },
  {
   "cell_type": "code",
   "execution_count": 6,
   "metadata": {},
   "outputs": [
    {
     "output_type": "execute_result",
     "data": {
      "text/plain": [
       "   Unnamed: 0  station  production_line      Sample  Cycle_time\n",
       "0           0        1              1.0  Unnamed: 6   96.200000\n",
       "1           1        2              1.0  Unnamed: 6   22.200000\n",
       "2           2        3              2.0  Unnamed: 6    7.250000\n",
       "3           3        4              2.0  Unnamed: 6   11.666667\n",
       "4           4        5              2.0  Unnamed: 6   75.250000"
      ],
      "text/html": "<div>\n<style scoped>\n    .dataframe tbody tr th:only-of-type {\n        vertical-align: middle;\n    }\n\n    .dataframe tbody tr th {\n        vertical-align: top;\n    }\n\n    .dataframe thead th {\n        text-align: right;\n    }\n</style>\n<table border=\"1\" class=\"dataframe\">\n  <thead>\n    <tr style=\"text-align: right;\">\n      <th></th>\n      <th>Unnamed: 0</th>\n      <th>station</th>\n      <th>production_line</th>\n      <th>Sample</th>\n      <th>Cycle_time</th>\n    </tr>\n  </thead>\n  <tbody>\n    <tr>\n      <th>0</th>\n      <td>0</td>\n      <td>1</td>\n      <td>1.0</td>\n      <td>Unnamed: 6</td>\n      <td>96.200000</td>\n    </tr>\n    <tr>\n      <th>1</th>\n      <td>1</td>\n      <td>2</td>\n      <td>1.0</td>\n      <td>Unnamed: 6</td>\n      <td>22.200000</td>\n    </tr>\n    <tr>\n      <th>2</th>\n      <td>2</td>\n      <td>3</td>\n      <td>2.0</td>\n      <td>Unnamed: 6</td>\n      <td>7.250000</td>\n    </tr>\n    <tr>\n      <th>3</th>\n      <td>3</td>\n      <td>4</td>\n      <td>2.0</td>\n      <td>Unnamed: 6</td>\n      <td>11.666667</td>\n    </tr>\n    <tr>\n      <th>4</th>\n      <td>4</td>\n      <td>5</td>\n      <td>2.0</td>\n      <td>Unnamed: 6</td>\n      <td>75.250000</td>\n    </tr>\n  </tbody>\n</table>\n</div>"
     },
     "metadata": {},
     "execution_count": 6
    }
   ],
   "source": [
    "#The 3 datasets do not have nulls values\n",
    "#Seems like Cycle time and downtimes-times have the same shape.\n",
    "#lets clean both datasets and merge them\n",
    "\n",
    "cyc['station'] = cyc['station'].astype(int)\n",
    "cyc.head()"
   ]
  },
  {
   "cell_type": "code",
   "execution_count": 7,
   "metadata": {},
   "outputs": [],
   "source": [
    "#The Unnamed: 0 and Samples are unnecessary columns\n",
    "del cyc['Unnamed: 0']\n",
    "del cyc['Sample']"
   ]
  },
  {
   "cell_type": "code",
   "execution_count": 8,
   "metadata": {},
   "outputs": [
    {
     "output_type": "stream",
     "name": "stdout",
     "text": [
      "<class 'pandas.core.frame.DataFrame'>\nRangeIndex: 5200 entries, 0 to 5199\nData columns (total 3 columns):\n #   Column           Non-Null Count  Dtype  \n---  ------           --------------  -----  \n 0   station          5200 non-null   object \n 1   production_line  5200 non-null   object \n 2   Cycle_time       5200 non-null   float64\ndtypes: float64(1), object(2)\nmemory usage: 122.0+ KB\n"
     ]
    }
   ],
   "source": [
    "#The columns station and production line are categories but are in numerical formats, let's change it to object\n",
    "cyc['station'] = cyc['station'].astype(object)\n",
    "cyc['production_line'] = cyc['production_line'].astype(object)\n",
    "cyc.info()"
   ]
  },
  {
   "cell_type": "code",
   "execution_count": 9,
   "metadata": {},
   "outputs": [
    {
     "output_type": "execute_result",
     "data": {
      "text/plain": [
       "   Unnamed: 0    station  station_no.  variable  value\n",
       "0           0  station 1            1  sample 1   2942\n",
       "1           1  station 2            2  sample 1    605\n",
       "2           2  station 3            3  sample 1    717\n",
       "3           3  station 4            4  sample 1   1014\n",
       "4           4  station 5            5  sample 1   1743"
      ],
      "text/html": "<div>\n<style scoped>\n    .dataframe tbody tr th:only-of-type {\n        vertical-align: middle;\n    }\n\n    .dataframe tbody tr th {\n        vertical-align: top;\n    }\n\n    .dataframe thead th {\n        text-align: right;\n    }\n</style>\n<table border=\"1\" class=\"dataframe\">\n  <thead>\n    <tr style=\"text-align: right;\">\n      <th></th>\n      <th>Unnamed: 0</th>\n      <th>station</th>\n      <th>station_no.</th>\n      <th>variable</th>\n      <th>value</th>\n    </tr>\n  </thead>\n  <tbody>\n    <tr>\n      <th>0</th>\n      <td>0</td>\n      <td>station 1</td>\n      <td>1</td>\n      <td>sample 1</td>\n      <td>2942</td>\n    </tr>\n    <tr>\n      <th>1</th>\n      <td>1</td>\n      <td>station 2</td>\n      <td>2</td>\n      <td>sample 1</td>\n      <td>605</td>\n    </tr>\n    <tr>\n      <th>2</th>\n      <td>2</td>\n      <td>station 3</td>\n      <td>3</td>\n      <td>sample 1</td>\n      <td>717</td>\n    </tr>\n    <tr>\n      <th>3</th>\n      <td>3</td>\n      <td>station 4</td>\n      <td>4</td>\n      <td>sample 1</td>\n      <td>1014</td>\n    </tr>\n    <tr>\n      <th>4</th>\n      <td>4</td>\n      <td>station 5</td>\n      <td>5</td>\n      <td>sample 1</td>\n      <td>1743</td>\n    </tr>\n  </tbody>\n</table>\n</div>"
     },
     "metadata": {},
     "execution_count": 9
    }
   ],
   "source": [
    "#Let's clean now the downtime dataset\n",
    "dtt.head()"
   ]
  },
  {
   "cell_type": "code",
   "execution_count": 10,
   "metadata": {},
   "outputs": [],
   "source": [
    "del dtt['Unnamed: 0']\n",
    "del dtt['variable']\n",
    "del dtt['station']"
   ]
  },
  {
   "cell_type": "code",
   "execution_count": 11,
   "metadata": {},
   "outputs": [
    {
     "output_type": "stream",
     "name": "stdout",
     "text": [
      "<class 'pandas.core.frame.DataFrame'>\nRangeIndex: 5200 entries, 0 to 5199\nData columns (total 2 columns):\n #   Column    Non-Null Count  Dtype\n---  ------    --------------  -----\n 0   station   5200 non-null   int64\n 1   downtime  5200 non-null   int64\ndtypes: int64(2)\nmemory usage: 81.4 KB\n"
     ]
    }
   ],
   "source": [
    "dtt = dtt.rename(columns={'station_no.': 'station', 'value': 'downtime'})\n",
    "dtt.info()"
   ]
  },
  {
   "cell_type": "code",
   "execution_count": 12,
   "metadata": {},
   "outputs": [
    {
     "output_type": "execute_result",
     "data": {
      "text/plain": [
       "  station production_line  Cycle_time\n",
       "0       1               1   96.200000\n",
       "1       2               1   22.200000\n",
       "2       3               2    7.250000\n",
       "3       4               2   11.666667\n",
       "4       5               2   75.250000"
      ],
      "text/html": "<div>\n<style scoped>\n    .dataframe tbody tr th:only-of-type {\n        vertical-align: middle;\n    }\n\n    .dataframe tbody tr th {\n        vertical-align: top;\n    }\n\n    .dataframe thead th {\n        text-align: right;\n    }\n</style>\n<table border=\"1\" class=\"dataframe\">\n  <thead>\n    <tr style=\"text-align: right;\">\n      <th></th>\n      <th>station</th>\n      <th>production_line</th>\n      <th>Cycle_time</th>\n    </tr>\n  </thead>\n  <tbody>\n    <tr>\n      <th>0</th>\n      <td>1</td>\n      <td>1</td>\n      <td>96.200000</td>\n    </tr>\n    <tr>\n      <th>1</th>\n      <td>2</td>\n      <td>1</td>\n      <td>22.200000</td>\n    </tr>\n    <tr>\n      <th>2</th>\n      <td>3</td>\n      <td>2</td>\n      <td>7.250000</td>\n    </tr>\n    <tr>\n      <th>3</th>\n      <td>4</td>\n      <td>2</td>\n      <td>11.666667</td>\n    </tr>\n    <tr>\n      <th>4</th>\n      <td>5</td>\n      <td>2</td>\n      <td>75.250000</td>\n    </tr>\n  </tbody>\n</table>\n</div>"
     },
     "metadata": {},
     "execution_count": 12
    }
   ],
   "source": [
    "cyc.head()"
   ]
  },
  {
   "cell_type": "code",
   "execution_count": 13,
   "metadata": {},
   "outputs": [
    {
     "output_type": "execute_result",
     "data": {
      "text/plain": [
       "   station  downtime\n",
       "0        1      2942\n",
       "1        2       605\n",
       "2        3       717\n",
       "3        4      1014\n",
       "4        5      1743"
      ],
      "text/html": "<div>\n<style scoped>\n    .dataframe tbody tr th:only-of-type {\n        vertical-align: middle;\n    }\n\n    .dataframe tbody tr th {\n        vertical-align: top;\n    }\n\n    .dataframe thead th {\n        text-align: right;\n    }\n</style>\n<table border=\"1\" class=\"dataframe\">\n  <thead>\n    <tr style=\"text-align: right;\">\n      <th></th>\n      <th>station</th>\n      <th>downtime</th>\n    </tr>\n  </thead>\n  <tbody>\n    <tr>\n      <th>0</th>\n      <td>1</td>\n      <td>2942</td>\n    </tr>\n    <tr>\n      <th>1</th>\n      <td>2</td>\n      <td>605</td>\n    </tr>\n    <tr>\n      <th>2</th>\n      <td>3</td>\n      <td>717</td>\n    </tr>\n    <tr>\n      <th>3</th>\n      <td>4</td>\n      <td>1014</td>\n    </tr>\n    <tr>\n      <th>4</th>\n      <td>5</td>\n      <td>1743</td>\n    </tr>\n  </tbody>\n</table>\n</div>"
     },
     "metadata": {},
     "execution_count": 13
    }
   ],
   "source": [
    "dtt.head()"
   ]
  },
  {
   "cell_type": "code",
   "execution_count": 17,
   "metadata": {},
   "outputs": [],
   "source": [
    "df = pd.merge(cyc, dtt, how= 'left',on= ['station'])"
   ]
  },
  {
   "cell_type": "code",
   "execution_count": 18,
   "metadata": {},
   "outputs": [
    {
     "output_type": "stream",
     "name": "stdout",
     "text": [
      "<class 'pandas.core.frame.DataFrame'>\nInt64Index: 520000 entries, 0 to 519999\nData columns (total 4 columns):\n #   Column           Non-Null Count   Dtype  \n---  ------           --------------   -----  \n 0   station          520000 non-null  object \n 1   production_line  520000 non-null  object \n 2   Cycle_time       520000 non-null  float64\n 3   downtime         520000 non-null  int64  \ndtypes: float64(1), int64(1), object(2)\nmemory usage: 19.8+ MB\n"
     ]
    }
   ],
   "source": [
    "df.info()"
   ]
  },
  {
   "cell_type": "code",
   "execution_count": 19,
   "metadata": {},
   "outputs": [
    {
     "output_type": "execute_result",
     "data": {
      "text/plain": [
       "station            0\n",
       "production_line    0\n",
       "Cycle_time         0\n",
       "downtime           0\n",
       "dtype: int64"
      ]
     },
     "metadata": {},
     "execution_count": 19
    }
   ],
   "source": [
    "df.isnull().sum()"
   ]
  },
  {
   "cell_type": "code",
   "execution_count": 20,
   "metadata": {},
   "outputs": [
    {
     "output_type": "execute_result",
     "data": {
      "text/plain": [
       "   index station production_line  Cycle_time  downtime\n",
       "0      0       1               1        96.2      2942\n",
       "1      1       1               1        96.2      2671\n",
       "2      2       1               1        96.2      2625\n",
       "3      3       1               1        96.2      1364\n",
       "4      4       1               1        96.2      2949"
      ],
      "text/html": "<div>\n<style scoped>\n    .dataframe tbody tr th:only-of-type {\n        vertical-align: middle;\n    }\n\n    .dataframe tbody tr th {\n        vertical-align: top;\n    }\n\n    .dataframe thead th {\n        text-align: right;\n    }\n</style>\n<table border=\"1\" class=\"dataframe\">\n  <thead>\n    <tr style=\"text-align: right;\">\n      <th></th>\n      <th>index</th>\n      <th>station</th>\n      <th>production_line</th>\n      <th>Cycle_time</th>\n      <th>downtime</th>\n    </tr>\n  </thead>\n  <tbody>\n    <tr>\n      <th>0</th>\n      <td>0</td>\n      <td>1</td>\n      <td>1</td>\n      <td>96.2</td>\n      <td>2942</td>\n    </tr>\n    <tr>\n      <th>1</th>\n      <td>1</td>\n      <td>1</td>\n      <td>1</td>\n      <td>96.2</td>\n      <td>2671</td>\n    </tr>\n    <tr>\n      <th>2</th>\n      <td>2</td>\n      <td>1</td>\n      <td>1</td>\n      <td>96.2</td>\n      <td>2625</td>\n    </tr>\n    <tr>\n      <th>3</th>\n      <td>3</td>\n      <td>1</td>\n      <td>1</td>\n      <td>96.2</td>\n      <td>1364</td>\n    </tr>\n    <tr>\n      <th>4</th>\n      <td>4</td>\n      <td>1</td>\n      <td>1</td>\n      <td>96.2</td>\n      <td>2949</td>\n    </tr>\n  </tbody>\n</table>\n</div>"
     },
     "metadata": {},
     "execution_count": 20
    }
   ],
   "source": [
    "df = df.reset_index()\n",
    "df.head()"
   ]
  },
  {
   "cell_type": "code",
   "execution_count": 32,
   "metadata": {},
   "outputs": [],
   "source": [
    "del df['level_0']\n",
    "del df['level_1']"
   ]
  },
  {
   "cell_type": "code",
   "execution_count": 33,
   "metadata": {},
   "outputs": [
    {
     "output_type": "execute_result",
     "data": {
      "text/plain": [
       "  station production_line  Cycle_time\n",
       "0       1               1   96.200000\n",
       "1       2               1   22.200000\n",
       "2       3               2    7.250000\n",
       "3       4               2   11.666667\n",
       "4       5               2   75.250000"
      ],
      "text/html": "<div>\n<style scoped>\n    .dataframe tbody tr th:only-of-type {\n        vertical-align: middle;\n    }\n\n    .dataframe tbody tr th {\n        vertical-align: top;\n    }\n\n    .dataframe thead th {\n        text-align: right;\n    }\n</style>\n<table border=\"1\" class=\"dataframe\">\n  <thead>\n    <tr style=\"text-align: right;\">\n      <th></th>\n      <th>station</th>\n      <th>production_line</th>\n      <th>Cycle_time</th>\n    </tr>\n  </thead>\n  <tbody>\n    <tr>\n      <th>0</th>\n      <td>1</td>\n      <td>1</td>\n      <td>96.200000</td>\n    </tr>\n    <tr>\n      <th>1</th>\n      <td>2</td>\n      <td>1</td>\n      <td>22.200000</td>\n    </tr>\n    <tr>\n      <th>2</th>\n      <td>3</td>\n      <td>2</td>\n      <td>7.250000</td>\n    </tr>\n    <tr>\n      <th>3</th>\n      <td>4</td>\n      <td>2</td>\n      <td>11.666667</td>\n    </tr>\n    <tr>\n      <th>4</th>\n      <td>5</td>\n      <td>2</td>\n      <td>75.250000</td>\n    </tr>\n  </tbody>\n</table>\n</div>"
     },
     "metadata": {},
     "execution_count": 33
    }
   ],
   "source": [
    "df.head()"
   ]
  },
  {
   "source": [
    "With the isnull() method we can see that we merge the datasets successfully."
   ],
   "cell_type": "markdown",
   "metadata": {}
  },
  {
   "cell_type": "code",
   "execution_count": 18,
   "metadata": {},
   "outputs": [
    {
     "output_type": "execute_result",
     "data": {
      "text/plain": [
       "   Unnamed: 0    station  station_no.        Date  Downtime  Year\n",
       "0           0  station 1            1  2018-01-01         8  2018\n",
       "1           1  station 2            2  2018-01-01         8  2018\n",
       "2           2  station 3            3  2018-01-01         4  2018\n",
       "3           3  station 4            4  2018-01-01         7  2018\n",
       "4           4  station 5            5  2018-01-01         6  2018"
      ],
      "text/html": "<div>\n<style scoped>\n    .dataframe tbody tr th:only-of-type {\n        vertical-align: middle;\n    }\n\n    .dataframe tbody tr th {\n        vertical-align: top;\n    }\n\n    .dataframe thead th {\n        text-align: right;\n    }\n</style>\n<table border=\"1\" class=\"dataframe\">\n  <thead>\n    <tr style=\"text-align: right;\">\n      <th></th>\n      <th>Unnamed: 0</th>\n      <th>station</th>\n      <th>station_no.</th>\n      <th>Date</th>\n      <th>Downtime</th>\n      <th>Year</th>\n    </tr>\n  </thead>\n  <tbody>\n    <tr>\n      <th>0</th>\n      <td>0</td>\n      <td>station 1</td>\n      <td>1</td>\n      <td>2018-01-01</td>\n      <td>8</td>\n      <td>2018</td>\n    </tr>\n    <tr>\n      <th>1</th>\n      <td>1</td>\n      <td>station 2</td>\n      <td>2</td>\n      <td>2018-01-01</td>\n      <td>8</td>\n      <td>2018</td>\n    </tr>\n    <tr>\n      <th>2</th>\n      <td>2</td>\n      <td>station 3</td>\n      <td>3</td>\n      <td>2018-01-01</td>\n      <td>4</td>\n      <td>2018</td>\n    </tr>\n    <tr>\n      <th>3</th>\n      <td>3</td>\n      <td>station 4</td>\n      <td>4</td>\n      <td>2018-01-01</td>\n      <td>7</td>\n      <td>2018</td>\n    </tr>\n    <tr>\n      <th>4</th>\n      <td>4</td>\n      <td>station 5</td>\n      <td>5</td>\n      <td>2018-01-01</td>\n      <td>6</td>\n      <td>2018</td>\n    </tr>\n  </tbody>\n</table>\n</div>"
     },
     "metadata": {},
     "execution_count": 18
    }
   ],
   "source": [
    "dtf.head()"
   ]
  },
  {
   "cell_type": "code",
   "execution_count": 19,
   "metadata": {},
   "outputs": [],
   "source": [
    "del dtf['Unnamed: 0']\n",
    "del dtf['station']\n"
   ]
  },
  {
   "cell_type": "code",
   "execution_count": 20,
   "metadata": {},
   "outputs": [
    {
     "output_type": "stream",
     "name": "stdout",
     "text": [
      "<class 'pandas.core.frame.DataFrame'>\nRangeIndex: 1248 entries, 0 to 1247\nData columns (total 4 columns):\n #   Column    Non-Null Count  Dtype \n---  ------    --------------  ----- \n 0   station   1248 non-null   int64 \n 1   Date      1248 non-null   object\n 2   Downtime  1248 non-null   int64 \n 3   Year      1248 non-null   int64 \ndtypes: int64(3), object(1)\nmemory usage: 39.1+ KB\n"
     ]
    }
   ],
   "source": [
    "dtf = dtf.rename(columns= {'station_no.' : 'station'})\n",
    "dtf.info()"
   ]
  },
  {
   "cell_type": "code",
   "execution_count": 21,
   "metadata": {},
   "outputs": [
    {
     "output_type": "stream",
     "name": "stdout",
     "text": [
      "<class 'pandas.core.frame.DataFrame'>\nRangeIndex: 1248 entries, 0 to 1247\nData columns (total 4 columns):\n #   Column    Non-Null Count  Dtype \n---  ------    --------------  ----- \n 0   station   1248 non-null   object\n 1   Date      1248 non-null   object\n 2   Downtime  1248 non-null   int64 \n 3   Year      1248 non-null   int64 \ndtypes: int64(2), object(2)\nmemory usage: 39.1+ KB\n"
     ]
    }
   ],
   "source": [
    "dtf['station'] = dtf['station'].astype(object)\n",
    "dtf.info()"
   ]
  },
  {
   "cell_type": "code",
   "execution_count": null,
   "metadata": {},
   "outputs": [],
   "source": []
  }
 ],
 "metadata": {
  "kernelspec": {
   "display_name": "Python 3",
   "language": "python",
   "name": "python3"
  },
  "language_info": {
   "codemirror_mode": {
    "name": "ipython",
    "version": 3
   },
   "file_extension": ".py",
   "mimetype": "text/x-python",
   "name": "python",
   "nbconvert_exporter": "python",
   "pygments_lexer": "ipython3",
   "version": "3.8.3-final"
  }
 },
 "nbformat": 4,
 "nbformat_minor": 4
}
